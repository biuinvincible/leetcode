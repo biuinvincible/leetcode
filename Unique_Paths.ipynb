{
 "cells": [
  {
   "cell_type": "markdown",
   "id": "03d5ffac-1dab-44b9-9e60-2b9ee34907e6",
   "metadata": {},
   "source": [
    "## Unique Paths\n",
    "### - There is a robot on an m x n grid. The robot is initially located at the top-left corner (i.e., grid[0][0]). The robot tries to move to the bottom-right corner (i.e., grid[m - 1][n - 1]). The robot can only move either down or right at any point in time. Given the two integers m and n, return the number of possible unique paths that the robot can take to reach the bottom-right corner.\n",
    "### - The test cases are generated so that the answer will be less than or equal to 2 * 109.\n",
    "### + Example1: Input: m = 3, n = 7, Output: 28.\n",
    "### + Example2: Input: m = 3, n = 2, Output: 3.\n",
    "### Explanation: From the top-left corner, there are a total of 3 ways to reach the bottom-right corner:\n",
    "#### \n",
    "\n",
    " "
   ]
  },
  {
   "cell_type": "code",
   "execution_count": null,
   "id": "a3a63e28-7d47-46c6-9f0d-f2b2c8cb758e",
   "metadata": {},
   "outputs": [],
   "source": []
  }
 ],
 "metadata": {
  "kernelspec": {
   "display_name": "Python 3 (ipykernel)",
   "language": "python",
   "name": "python3"
  },
  "language_info": {
   "codemirror_mode": {
    "name": "ipython",
    "version": 3
   },
   "file_extension": ".py",
   "mimetype": "text/x-python",
   "name": "python",
   "nbconvert_exporter": "python",
   "pygments_lexer": "ipython3",
   "version": "3.11.5"
  }
 },
 "nbformat": 4,
 "nbformat_minor": 5
}
