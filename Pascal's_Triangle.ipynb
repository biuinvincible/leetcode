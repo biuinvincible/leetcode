{
 "cells": [
  {
   "cell_type": "markdown",
   "id": "fa252888-11f2-4035-a593-5e1e965b4f91",
   "metadata": {},
   "source": [
    "## Pascal's Triangle\n",
    "### Given an integer numRows, return the first numRows of Pascal's triangle.\n",
    "### Example 1: Input: numRows = 5, Output: [[1],[1,1],[1,2,1],[1,3,3,1],[1,4,6,4,1]].\n",
    "### Example 2:  Input: numRows = 1, Output: [[1]]."
   ]
  },
  {
   "cell_type": "code",
   "execution_count": 1,
   "id": "65ec6eac-e07c-4044-87f6-72dfc1468a6d",
   "metadata": {},
   "outputs": [],
   "source": [
    "class Solution(object):\n",
    "    def generate(self, numRows):\n",
    "        \"\"\"\n",
    "        :type numRows: int\n",
    "        :rtype: List[List[int]]\n",
    "        \"\"\"\n",
    "        result = []\n",
    "        for i in range(numRows):\n",
    "            current = []\n",
    "            if (i == 0):\n",
    "                current.append(1)\n",
    "            elif (i == 1):\n",
    "                current = [1,1]\n",
    "            else:\n",
    "                for j in range(i+1):\n",
    "                    if (j != 0) & (j != i): \n",
    "                        current.append(result[i-1][j-1] + result[i-1][j])\n",
    "                    else:\n",
    "                        current.append(1)\n",
    "            result.append(current)\n",
    "        return result\n",
    "                \n",
    "        "
   ]
  },
  {
   "cell_type": "code",
   "execution_count": 2,
   "id": "50af492d-5157-46b0-8a7b-a9724e4dedfd",
   "metadata": {},
   "outputs": [],
   "source": [
    "sol = Solution()"
   ]
  },
  {
   "cell_type": "code",
   "execution_count": 3,
   "id": "562f907d-d0c8-49f3-95d0-19afbadaba16",
   "metadata": {},
   "outputs": [
    {
     "data": {
      "text/plain": [
       "[[1], [1, 1], [1, 2, 1], [1, 3, 3, 1], [1, 4, 6, 4, 1]]"
      ]
     },
     "execution_count": 3,
     "metadata": {},
     "output_type": "execute_result"
    }
   ],
   "source": [
    "sol.generate(5)"
   ]
  },
  {
   "cell_type": "code",
   "execution_count": 4,
   "id": "6c90e18c-ed82-434b-9094-5df5a9b51fcc",
   "metadata": {},
   "outputs": [
    {
     "data": {
      "text/plain": [
       "[[1]]"
      ]
     },
     "execution_count": 4,
     "metadata": {},
     "output_type": "execute_result"
    }
   ],
   "source": [
    "sol.generate(1)"
   ]
  },
  {
   "cell_type": "code",
   "execution_count": null,
   "id": "d5c14d9e-6047-43a4-bc58-edd253bb6f49",
   "metadata": {},
   "outputs": [],
   "source": []
  }
 ],
 "metadata": {
  "kernelspec": {
   "display_name": "Python 3 (ipykernel)",
   "language": "python",
   "name": "python3"
  },
  "language_info": {
   "codemirror_mode": {
    "name": "ipython",
    "version": 3
   },
   "file_extension": ".py",
   "mimetype": "text/x-python",
   "name": "python",
   "nbconvert_exporter": "python",
   "pygments_lexer": "ipython3",
   "version": "3.11.5"
  }
 },
 "nbformat": 4,
 "nbformat_minor": 5
}
