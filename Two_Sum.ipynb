{
 "cells": [
  {
   "cell_type": "markdown",
   "id": "fb01bd6e-00ed-45e1-981c-d2d0b246e894",
   "metadata": {},
   "source": [
    "## Two sum\n",
    "### Given an array of integers nums and an integer target, return indices of the two numbers such that they add up to target.\n",
    "### You may assume that each input would have exactly one solution, and you may not use the same element twice.\n",
    "### You can return the answer in any order.\n",
    "### Example:\n",
    "### \r\n",
    "Input: nums = [2,7,11,15], target = ### 9\r\n",
    "Output: [0,### 1]\r\n",
    "Explanation: Because nums[0] + nums[1] == 9, we return [0, 1]."
   ]
  },
  {
   "cell_type": "code",
   "execution_count": 11,
   "id": "d7d98820-1848-4f4a-ad4b-372bca22d792",
   "metadata": {},
   "outputs": [],
   "source": [
    "class Solution(object):\n",
    "    def twoSum(self, nums, target):\n",
    "        \"\"\"\n",
    "        :type nums: List[int]\n",
    "        :type target: int\n",
    "        :rtype: List[int]\n",
    "        \"\"\"\n",
    "        nums_dict = {index : num for index, num in enumerate(nums)}\n",
    "        for i in nums_dict.keys():\n",
    "            for j in nums_dict.keys():\n",
    "                if j != i:\n",
    "                    if nums[i] + nums[j] == target:\n",
    "                        return int(i), int(j)\n",
    "\n",
    "        return 0"
   ]
  },
  {
   "cell_type": "code",
   "execution_count": 12,
   "id": "de62eba4-a863-4dac-8f7c-2ccfc4934374",
   "metadata": {},
   "outputs": [],
   "source": [
    "sol = Solution()"
   ]
  },
  {
   "cell_type": "code",
   "execution_count": 13,
   "id": "f069407f-946e-47b3-84b9-d46df6b67c85",
   "metadata": {},
   "outputs": [],
   "source": [
    "nums = [2,7,11,15]\n",
    "target = 9"
   ]
  },
  {
   "cell_type": "code",
   "execution_count": 14,
   "id": "d72d46fd-8613-441e-ba5d-117d9796c7b0",
   "metadata": {},
   "outputs": [
    {
     "data": {
      "text/plain": [
       "(0, 1)"
      ]
     },
     "execution_count": 14,
     "metadata": {},
     "output_type": "execute_result"
    }
   ],
   "source": [
    "sol.twoSum(nums, target)"
   ]
  },
  {
   "cell_type": "code",
   "execution_count": null,
   "id": "e6fd31ab-3026-4315-b77c-3f05837d2046",
   "metadata": {},
   "outputs": [],
   "source": []
  }
 ],
 "metadata": {
  "kernelspec": {
   "display_name": "Python 3 (ipykernel)",
   "language": "python",
   "name": "python3"
  },
  "language_info": {
   "codemirror_mode": {
    "name": "ipython",
    "version": 3
   },
   "file_extension": ".py",
   "mimetype": "text/x-python",
   "name": "python",
   "nbconvert_exporter": "python",
   "pygments_lexer": "ipython3",
   "version": "3.11.5"
  }
 },
 "nbformat": 4,
 "nbformat_minor": 5
}
