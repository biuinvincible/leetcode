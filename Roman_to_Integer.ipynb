{
 "cells": [
  {
   "cell_type": "markdown",
   "id": "dce2c22e-3c87-4f03-ac06-0d33ae9bd9b0",
   "metadata": {},
   "source": [
    "## Roman to Integer\n",
    "### Roman numerals are represented by seven different symbols: I = 1, V = 5, X = 10, L = 50, C = 100, D = 500 and M =1000.\n",
    "### For example, 2 is written as II in Roman numeral, just two ones added together. 12 is written as XII, which is simply X + II. The number 27 is written as XXVII, which is XX + V + II.\n",
    "### Roman numerals are usually written largest to smallest from left to right. However, the numeral for four is not IIII. Instead, the number four is written as IV. Because the one is before the five we subtract it making four. The same principle applies to the number nine, which is written as IX. There are six instances where subtraction is used:\n",
    "#### - I can be placed before V (5) and X (10) to make 4 and 9. \n",
    "#### - X can be placed before L (50) and C (100) to make 40 and 90. \n",
    "#### - C can be placed before D (500) and M (1000) to make 400 and 900.\n",
    "### Given a roman numeral, convert it to an integer."
   ]
  },
  {
   "cell_type": "code",
   "execution_count": 1,
   "id": "b7787f3e-5eb7-4c16-aad0-e06ea58aa894",
   "metadata": {},
   "outputs": [],
   "source": [
    "class Solution(object):\n",
    "    def romanToInt(self, s):\n",
    "        \"\"\"\n",
    "        :type s: str\n",
    "        :rtype: int\n",
    "        \"\"\"\n",
    "        sum = 0\n",
    "        values = {\n",
    "            \"I\":1, \"V\":5, \"X\":10, \"L\":50, \"C\":100, \"D\":500, \"M\":1000, \"IV\":4, \"IX\":9, \"XL\":40, \"XC\":90, \"CD\":400, \"CM\":900\n",
    "        }\n",
    "        specials = []\n",
    "        if 'IV' in s:\n",
    "            specials.append('IV')\n",
    "        if 'IX' in s:\n",
    "            specials.append('IX')\n",
    "        if 'XL' in s:\n",
    "            specials.append('XL')\n",
    "        if 'XC' in s:\n",
    "            specials.append('XC')\n",
    "        if 'CD' in s:\n",
    "            specials.append('CD')\n",
    "        if 'CM' in s:\n",
    "            specials.append('CM')\n",
    "        if 'I' in s:\n",
    "            specials.append('I')\n",
    "        if 'V' in s:\n",
    "            specials.append('V')\n",
    "        if 'X' in s:\n",
    "            specials.append('X')\n",
    "        if 'L' in s:\n",
    "            specials.append('L')\n",
    "        if 'C' in s:\n",
    "            specials.append('C')\n",
    "        if 'D' in s:\n",
    "            specials.append('D')\n",
    "        if 'M' in s:\n",
    "            specials.append('M')\n",
    "        for item in specials:\n",
    "            count = s.count(item)\n",
    "            s = s.replace(item,'')\n",
    "            sum += count*values[item]\n",
    "        return sum\n",
    "    "
   ]
  },
  {
   "cell_type": "code",
   "execution_count": 2,
   "id": "3d434d49-b65f-479c-a1f1-600b508d8623",
   "metadata": {},
   "outputs": [],
   "source": [
    "sol = Solution()"
   ]
  },
  {
   "cell_type": "code",
   "execution_count": 3,
   "id": "6b41a9aa-3e13-417a-8486-cf18cc28bf8a",
   "metadata": {},
   "outputs": [
    {
     "name": "stdout",
     "output_type": "stream",
     "text": [
      "Roman to Integer for III is 3\n",
      "Roman to Integer for LVIII is 58\n",
      "Roman to Integer for MCMXCIV is 1994\n"
     ]
    }
   ],
   "source": [
    "for roman in ['III','LVIII','MCMXCIV']:\n",
    "    print(f\"Roman to Integer for {roman} is {sol.romanToInt(roman)}\")"
   ]
  },
  {
   "cell_type": "code",
   "execution_count": null,
   "id": "28877b33-c8e2-4bb5-bde3-d9c79dc30f09",
   "metadata": {},
   "outputs": [],
   "source": []
  }
 ],
 "metadata": {
  "kernelspec": {
   "display_name": "Python 3 (ipykernel)",
   "language": "python",
   "name": "python3"
  },
  "language_info": {
   "codemirror_mode": {
    "name": "ipython",
    "version": 3
   },
   "file_extension": ".py",
   "mimetype": "text/x-python",
   "name": "python",
   "nbconvert_exporter": "python",
   "pygments_lexer": "ipython3",
   "version": "3.11.5"
  }
 },
 "nbformat": 4,
 "nbformat_minor": 5
}
