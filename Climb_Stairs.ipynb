{
 "cells": [
  {
   "cell_type": "markdown",
   "id": "985f29bb-99a1-49a3-b59a-6db86cb12f47",
   "metadata": {},
   "source": [
    "## Climbing Stairs \n",
    "### You are climbing a staircase. It takes n steps to reach the top.\n",
    "### Each time you can either climb 1 or 2 steps. In how many distinct ways can you climb to the top?\n",
    "### Example 1: if n = 2, then ouput = 2 (1 step + 1 step, 2 steps).\n",
    "### Example 2: if n = 3, then output = 3 (1 step + 1 step + 1 step, 1 step + 2 steps, 2 steps + 1 step)."
   ]
  },
  {
   "cell_type": "code",
   "execution_count": 1,
   "id": "b6d209c6-c95f-4eda-9018-a31c656ad29a",
   "metadata": {},
   "outputs": [],
   "source": [
    "### Bài toán này có thể giải quyết bằng Fibonacci. Cách bước lên cầu thang có n bậc sẽ bằng với f(n+1) với f(x) là hàm Fibonacci.\n",
    "def fibonacci(n):\n",
    "    if n <= 1:\n",
    "        return n\n",
    "    \n",
    "    fib_prev = 0\n",
    "    fib_curr = 1\n",
    "    \n",
    "    for _ in range(2, n + 1):\n",
    "        fib_next = fib_prev + fib_curr\n",
    "        fib_prev, fib_curr = fib_curr, fib_next\n",
    "    \n",
    "    return fib_curr\n",
    "\n",
    "class Solution(object):\n",
    "    def climbStairs(self, n):\n",
    "        \"\"\"\n",
    "        :type n: int\n",
    "        :rtype: int\n",
    "        \"\"\"\n",
    "        return fibonacci(n+1)"
   ]
  },
  {
   "cell_type": "code",
   "execution_count": 2,
   "id": "a17c0645-f7de-4822-abf1-172cddbcab8f",
   "metadata": {},
   "outputs": [],
   "source": [
    "sol = Solution()"
   ]
  },
  {
   "cell_type": "code",
   "execution_count": 3,
   "id": "def038a8-56dd-4217-9dbd-7ace6aa0efb7",
   "metadata": {},
   "outputs": [
    {
     "data": {
      "text/plain": [
       "2"
      ]
     },
     "execution_count": 3,
     "metadata": {},
     "output_type": "execute_result"
    }
   ],
   "source": [
    "sol.climbStairs(2)"
   ]
  },
  {
   "cell_type": "code",
   "execution_count": 4,
   "id": "59a230b8-9735-4af2-8ea3-827b97451f1c",
   "metadata": {},
   "outputs": [
    {
     "data": {
      "text/plain": [
       "3"
      ]
     },
     "execution_count": 4,
     "metadata": {},
     "output_type": "execute_result"
    }
   ],
   "source": [
    "sol.climbStairs(3)"
   ]
  },
  {
   "cell_type": "code",
   "execution_count": null,
   "id": "ca410349-7cf8-4552-8936-bb375a631af9",
   "metadata": {},
   "outputs": [],
   "source": []
  }
 ],
 "metadata": {
  "kernelspec": {
   "display_name": "Python 3 (ipykernel)",
   "language": "python",
   "name": "python3"
  },
  "language_info": {
   "codemirror_mode": {
    "name": "ipython",
    "version": 3
   },
   "file_extension": ".py",
   "mimetype": "text/x-python",
   "name": "python",
   "nbconvert_exporter": "python",
   "pygments_lexer": "ipython3",
   "version": "3.11.5"
  }
 },
 "nbformat": 4,
 "nbformat_minor": 5
}
