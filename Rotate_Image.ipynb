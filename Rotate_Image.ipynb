{
 "cells": [
  {
   "cell_type": "markdown",
   "id": "44b74517-a8bc-4585-b084-52b4abaeccb3",
   "metadata": {},
   "source": [
    "## Rotate Image\n",
    "### - You are given an n x n 2D matrix representing an image, rotate the image by 90 degrees (clockwise).\n",
    "### - You have to rotate the image in-place, which means you have to modify the input 2D matrix directly. DO NOT allocate another 2D matrix and do the rotation.\n",
    "### Example:\n",
    "#### Input: matrix = [[1,2,3],[4,5,6],[7,8,9]]\n",
    "#### Output: [[7,4,1],[8,5,2],[9,6,3]]"
   ]
  },
  {
   "cell_type": "code",
   "execution_count": 1,
   "id": "496f90b4-6e01-43b2-9f7f-be35b622c59b",
   "metadata": {},
   "outputs": [],
   "source": [
    "class Solution(object):\n",
    "    def rotate(self, matrix):\n",
    "        \"\"\"\n",
    "        :type matrix: List[List[int]]\n",
    "        :rtype: None Do not return anything, modify matrix in-place instead.\n",
    "        \"\"\"\n",
    "        k = 0\n",
    "        for i in range(0, len(matrix)):\n",
    "            for j in range(k, len(matrix)):\n",
    "                temp = matrix[i][j]\n",
    "                matrix[i][j] = matrix[j][i]\n",
    "                matrix[j][i] = temp\n",
    "            k += 1\n",
    "        for i in matrix:\n",
    "            i = i.reverse()\n",
    "        return matrix"
   ]
  },
  {
   "cell_type": "code",
   "execution_count": 2,
   "id": "1a2d1620-51dd-406c-8a51-0e792ec17add",
   "metadata": {},
   "outputs": [],
   "source": [
    "sol = Solution()"
   ]
  },
  {
   "cell_type": "code",
   "execution_count": 3,
   "id": "ffcc1ea4-2967-415e-866d-c4fc37a63a97",
   "metadata": {},
   "outputs": [],
   "source": [
    "matrix = list([[1,2,3],[4,5,6],[7,8,9]])"
   ]
  },
  {
   "cell_type": "code",
   "execution_count": 4,
   "id": "cbc33eaa-c177-4952-bdcd-7748aa325922",
   "metadata": {},
   "outputs": [
    {
     "data": {
      "text/plain": [
       "[[7, 4, 1], [8, 5, 2], [9, 6, 3]]"
      ]
     },
     "execution_count": 4,
     "metadata": {},
     "output_type": "execute_result"
    }
   ],
   "source": [
    "sol.rotate(matrix)"
   ]
  },
  {
   "cell_type": "code",
   "execution_count": null,
   "id": "7c2db207-c9ae-4d11-876b-82f4fd177545",
   "metadata": {},
   "outputs": [],
   "source": []
  }
 ],
 "metadata": {
  "kernelspec": {
   "display_name": "Python 3 (ipykernel)",
   "language": "python",
   "name": "python3"
  },
  "language_info": {
   "codemirror_mode": {
    "name": "ipython",
    "version": 3
   },
   "file_extension": ".py",
   "mimetype": "text/x-python",
   "name": "python",
   "nbconvert_exporter": "python",
   "pygments_lexer": "ipython3",
   "version": "3.11.5"
  }
 },
 "nbformat": 4,
 "nbformat_minor": 5
}
